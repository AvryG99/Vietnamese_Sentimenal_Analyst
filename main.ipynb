{
 "cells": [
  {
   "cell_type": "code",
   "execution_count": 1,
   "metadata": {},
   "outputs": [
    {
     "name": "stdout",
     "output_type": "stream",
     "text": [
      "WARNING:tensorflow:From C:\\Users\\Avry\\AppData\\Roaming\\Python\\Python310\\site-packages\\keras\\src\\losses.py:2976: The name tf.losses.sparse_softmax_cross_entropy is deprecated. Please use tf.compat.v1.losses.sparse_softmax_cross_entropy instead.\n",
      "\n"
     ]
    }
   ],
   "source": [
    "import pandas as pd \n",
    "import numpy as np \n",
    "from data_processor import Data_Processor\n",
    "from sklearn.model_selection import train_test_split\n",
    "from tensorflow.keras.preprocessing.text import Tokenizer\n",
    "from tensorflow.keras.preprocessing.sequence import pad_sequences"
   ]
  },
  {
   "cell_type": "code",
   "execution_count": 15,
   "metadata": {},
   "outputs": [],
   "source": [
    "vn_stopwords = r'vietnamese-stopwords.txt'\n",
    "\n",
    "train_processor = Data_Processor(r'data\\train\\sentiments.txt', r'data\\train\\sents.txt', vn_stopwords)\n",
    "test_processor = Data_Processor(r'data\\test\\sentiments.txt', r'data\\test\\sents.txt', vn_stopwords)\n",
    "\n",
    "train_df = train_processor.create_dataframe()\n",
    "test_df = test_processor.create_dataframe()"
   ]
  },
  {
   "cell_type": "code",
   "execution_count": 16,
   "metadata": {},
   "outputs": [],
   "source": [
    "X_train = train_df['Text'].values\n",
    "y_train = train_df[['Negative', 'Neutral', 'Positive']].values\n",
    "X_test = test_df['Text'].values\n",
    "y_test = test_df[['Negative', 'Neutral', 'Positive']].values"
   ]
  },
  {
   "cell_type": "code",
   "execution_count": 17,
   "metadata": {},
   "outputs": [],
   "source": [
    "# Tokenize and pad sequences\n",
    "tokenizer = Tokenizer()\n",
    "tokenizer.fit_on_texts(X_train)\n",
    "\n",
    "X_train_seq = tokenizer.texts_to_sequences(X_train)\n",
    "X_test_seq = tokenizer.texts_to_sequences(X_test)\n",
    "\n",
    "max_len = max(len(x) for x in X_train_seq + X_test_seq)\n",
    "\n",
    "X_train_pad = pad_sequences(X_train_seq, maxlen=max_len, padding='post')\n",
    "X_test_pad = pad_sequences(X_test_seq, maxlen=max_len, padding='post')"
   ]
  },
  {
   "cell_type": "markdown",
   "metadata": {},
   "source": [
    "LSTM with Bidirectional"
   ]
  },
  {
   "cell_type": "code",
   "execution_count": 18,
   "metadata": {},
   "outputs": [],
   "source": [
    "from tensorflow.keras.models import Sequential\n",
    "from tensorflow.keras.layers import Embedding, Bidirectional, LSTM, Dense, Dropout"
   ]
  },
  {
   "cell_type": "code",
   "execution_count": 24,
   "metadata": {},
   "outputs": [
    {
     "name": "stdout",
     "output_type": "stream",
     "text": [
      "Model: \"sequential_6\"\n",
      "_________________________________________________________________\n",
      " Layer (type)                Output Shape              Param #   \n",
      "=================================================================\n",
      " embedding_7 (Embedding)     (None, 130, 128)          180736    \n",
      "                                                                 \n",
      " bidirectional_9 (Bidirecti  (None, 130, 128)          98816     \n",
      " onal)                                                           \n",
      "                                                                 \n",
      " dropout_13 (Dropout)        (None, 130, 128)          0         \n",
      "                                                                 \n",
      " bidirectional_10 (Bidirect  (None, 128)               98816     \n",
      " ional)                                                          \n",
      "                                                                 \n",
      " dropout_14 (Dropout)        (None, 128)               0         \n",
      "                                                                 \n",
      " dense_6 (Dense)             (None, 3)                 387       \n",
      "                                                                 \n",
      "=================================================================\n",
      "Total params: 378755 (1.44 MB)\n",
      "Trainable params: 378755 (1.44 MB)\n",
      "Non-trainable params: 0 (0.00 Byte)\n",
      "_________________________________________________________________\n"
     ]
    }
   ],
   "source": [
    "vocab_size = len(tokenizer.word_index) + 1\n",
    "embedding_dim = 128\n",
    "lstm_units = 64\n",
    "dropout_rate = 0.5\n",
    "\n",
    "# Build model\n",
    "LSTM_Model = Sequential([\n",
    "    Embedding(input_dim=vocab_size, output_dim=embedding_dim, input_length=max_len),\n",
    "    Bidirectional(LSTM(lstm_units, return_sequences=True, activation='tanh', recurrent_activation='sigmoid')),\n",
    "    Dropout(dropout_rate),\n",
    "    Bidirectional(LSTM(lstm_units, activation='tanh', recurrent_activation='sigmoid')),\n",
    "    Dropout(dropout_rate),\n",
    "    Dense(3, activation='softmax')\n",
    "])\n",
    "\n",
    "LSTM_Model.compile(loss='binary_crossentropy', optimizer='adam', metrics=['accuracy'])\n",
    "LSTM_Model.summary()"
   ]
  },
  {
   "cell_type": "code",
   "execution_count": 25,
   "metadata": {},
   "outputs": [
    {
     "name": "stdout",
     "output_type": "stream",
     "text": [
      "Epoch 1/50\n",
      "72/72 [==============================] - 76s 957ms/step - loss: 0.4084 - accuracy: 0.7149 - val_loss: 0.2531 - val_accuracy: 0.8500\n",
      "Epoch 2/50\n",
      "72/72 [==============================] - 66s 916ms/step - loss: 0.2106 - accuracy: 0.8917 - val_loss: 0.2295 - val_accuracy: 0.8714\n",
      "Epoch 3/50\n",
      "72/72 [==============================] - 66s 916ms/step - loss: 0.1849 - accuracy: 0.9031 - val_loss: 0.2222 - val_accuracy: 0.8762\n",
      "Epoch 4/50\n",
      "72/72 [==============================] - 66s 914ms/step - loss: 0.1716 - accuracy: 0.9075 - val_loss: 0.2194 - val_accuracy: 0.8762\n",
      "Epoch 5/50\n",
      "72/72 [==============================] - 62s 857ms/step - loss: 0.1613 - accuracy: 0.9120 - val_loss: 0.2197 - val_accuracy: 0.8714\n",
      "Epoch 6/50\n",
      "72/72 [==============================] - 61s 853ms/step - loss: 0.1494 - accuracy: 0.9160 - val_loss: 0.2141 - val_accuracy: 0.8784\n",
      "Epoch 7/50\n",
      "72/72 [==============================] - 62s 861ms/step - loss: 0.1416 - accuracy: 0.9232 - val_loss: 0.2106 - val_accuracy: 0.8784\n",
      "Epoch 8/50\n",
      "72/72 [==============================] - 63s 880ms/step - loss: 0.1347 - accuracy: 0.9248 - val_loss: 0.2202 - val_accuracy: 0.8801\n",
      "Epoch 9/50\n",
      "72/72 [==============================] - 62s 862ms/step - loss: 0.1288 - accuracy: 0.9302 - val_loss: 0.2109 - val_accuracy: 0.8841\n",
      "Epoch 10/50\n",
      "72/72 [==============================] - 63s 869ms/step - loss: 0.1280 - accuracy: 0.9316 - val_loss: 0.2336 - val_accuracy: 0.8819\n",
      "Epoch 11/50\n",
      "72/72 [==============================] - 63s 878ms/step - loss: 0.1183 - accuracy: 0.9346 - val_loss: 0.2268 - val_accuracy: 0.8832\n",
      "Epoch 12/50\n",
      "72/72 [==============================] - 63s 870ms/step - loss: 0.1130 - accuracy: 0.9397 - val_loss: 0.2460 - val_accuracy: 0.8801\n"
     ]
    }
   ],
   "source": [
    "from tensorflow.keras.callbacks import EarlyStopping\n",
    "\n",
    "\n",
    "early_stopping = EarlyStopping(monitor='val_loss', patience=5, restore_best_weights=True)\n",
    "\n",
    "# Train the model with early stopping\n",
    "batch_size = 128\n",
    "epochs = 50\n",
    "\n",
    "history = LSTM_Model.fit(\n",
    "    X_train_pad, y_train,\n",
    "    epochs=epochs,\n",
    "    batch_size=batch_size,\n",
    "    validation_split=0.2,\n",
    "    callbacks=[early_stopping],\n",
    "    verbose=1\n",
    ")"
   ]
  },
  {
   "cell_type": "code",
   "execution_count": 25,
   "metadata": {},
   "outputs": [
    {
     "name": "stdout",
     "output_type": "stream",
     "text": [
      "99/99 [==============================] - 4s 43ms/step - loss: 0.2260 - accuracy: 0.8752\n",
      "Test Accuracy: 0.8752\n"
     ]
    }
   ],
   "source": [
    "loss, accuracy = LSTM_Model.evaluate(X_test_pad, y_test, verbose=1)\n",
    "print(f'Test Accuracy: {accuracy:.4f}')\n",
    "\n",
    "LSTM_Model.save('LSTM.h5')"
   ]
  },
  {
   "cell_type": "code",
   "execution_count": 28,
   "metadata": {},
   "outputs": [
    {
     "name": "stdout",
     "output_type": "stream",
     "text": [
      "1/1 [==============================] - 0s 35ms/step\n",
      "Sentiment scores: {'Negative': 2.265906e-05, 'Neutral': 4.2134852e-05, 'Positive': 0.99993527}\n"
     ]
    }
   ],
   "source": [
    "import string\n",
    "import unicodedata\n",
    "from pyvi import ViTokenizer\n",
    "import numpy as np\n",
    "import os\n",
    "def predict_sentiment(text):\n",
    "\n",
    "    with open('vietnamese-stopwords.txt', 'r', encoding='utf-8') as sf:\n",
    "        stopwords = [word.strip() for word in sf.readlines()]\n",
    "    text = text.lower()\n",
    "\n",
    "    # Remove diacritics (accents)\n",
    "    text = unicodedata.normalize('NFD', text).encode('ascii', 'ignore').decode('utf-8')\n",
    "\n",
    "    # Remove punctuation\n",
    "    translator = str.maketrans('', '', string.punctuation)\n",
    "    text = text.translate(translator)\n",
    "\n",
    "    # Tokenize using Vietnamese tokenizer (pyvi)\n",
    "    text = ViTokenizer.tokenize(text)\n",
    "\n",
    "    # Remove stopwords\n",
    "    text = ' '.join([word for word in text.split() if word not in stopwords])\n",
    "\n",
    "    # Preprocess input text\n",
    "    text_seq = tokenizer.texts_to_sequences([text])\n",
    "    text_pad = pad_sequences(text_seq, maxlen=max_len, padding='post')\n",
    "    # Predict sentiment\n",
    "    prediction = LSTM_Model.predict(text_pad)\n",
    "    \n",
    "    # Interpret the prediction\n",
    "    sentiment_labels = ['Negative', 'Neutral', 'Positive']\n",
    "    sentiment_score = {sentiment_labels[i]: prediction[0][i] for i in range(3)}\n",
    "    \n",
    "    return sentiment_score\n",
    "\n",
    "# Example usage\n",
    "user_input = input(\"Enter a Vietnamese text: \")\n",
    "sentiment_score = predict_sentiment(user_input)\n",
    "print(\"Sentiment scores:\", sentiment_score)"
   ]
  },
  {
   "cell_type": "code",
   "execution_count": null,
   "metadata": {},
   "outputs": [],
   "source": []
  }
 ],
 "metadata": {
  "kernelspec": {
   "display_name": "Python 3",
   "language": "python",
   "name": "python3"
  },
  "language_info": {
   "codemirror_mode": {
    "name": "ipython",
    "version": 3
   },
   "file_extension": ".py",
   "mimetype": "text/x-python",
   "name": "python",
   "nbconvert_exporter": "python",
   "pygments_lexer": "ipython3",
   "version": "3.10.11"
  }
 },
 "nbformat": 4,
 "nbformat_minor": 2
}
